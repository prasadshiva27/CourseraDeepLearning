{
 "cells": [
  {
   "cell_type": "code",
   "execution_count": 2,
   "metadata": {
    "collapsed": true
   },
   "outputs": [],
   "source": [
    "import numpy as np"
   ]
  },
  {
   "cell_type": "markdown",
   "metadata": {},
   "source": [
    "### 3.1 - Zero-Padding\n",
    "\n",
    "Zero-padding adds zeros around the border of an image:\n",
    "\n",
    "<img src=\"images/PAD.png\" style=\"width:600px;height:400px;\">\n",
    "<caption><center> <u> <font color='purple'> **Figure 1** </u><font color='purple'>  : **Zero-Padding**<br> Image (3 channels, RGB) with a padding of 2. </center></caption>\n",
    "\n",
    "The main benefits of padding are the following:\n",
    "\n",
    "- It allows you to use a CONV layer without necessarily shrinking the height and width of the volumes. This is important for building deeper networks, since otherwise the height/width would shrink as you go to deeper layers. An important special case is the \"same\" convolution, in which the height/width is exactly preserved after one layer. \n",
    "\n",
    "- It helps us keep more of the information at the border of an image. Without padding, very few values at the next layer would be affected by pixels as the edges of an image.\n",
    "\n",
    "**Exercise**: Implement the following function, which pads all the images of a batch of examples X with zeros. [Use np.pad](https://docs.scipy.org/doc/numpy/reference/generated/numpy.pad.html). Note if you want to pad the array \"a\" of shape $(5,5,5,5,5)$ with `pad = 1` for the 2nd dimension, `pad = 3` for the 4th dimension and `pad = 0` for the rest, you would do:\n",
    "```python\n",
    "a = np.pad(a, ((0,0), (1,1), (0,0), (3,3), (0,0)), 'constant', constant_values = (..,..))\n",
    "```"
   ]
  },
  {
   "cell_type": "code",
   "execution_count": 47,
   "metadata": {},
   "outputs": [
    {
     "name": "stdout",
     "output_type": "stream",
     "text": [
      "x[0,0] = -0.17242820755043575\n",
      "_----------_\n",
      "[[ 1.62434536 -1.07296862  1.74481176]\n",
      " [-0.24937038 -0.3224172  -1.09989127]]\n",
      "=-=-=-=-=-=-=-=-=-=-=-==-=-+++++++++++++=-=-=-=-=-=\n",
      "[[[ 1.62434536 -1.07296862  1.74481176]\n",
      "  [-0.24937038 -0.3224172  -1.09989127]]\n",
      "\n",
      " [[ 0.04221375  1.14472371  0.90085595]\n",
      "  [-0.93576943 -0.69166075 -0.84520564]]\n",
      "\n",
      " [[-1.11731035  0.74204416 -0.74715829]\n",
      "  [-0.63699565  0.12015895 -0.35224985]]\n",
      "\n",
      " [[-0.20889423  0.93110208 -0.75439794]\n",
      "  [-0.29809284  1.13162939 -1.39649634]]]\n",
      "============\n",
      "[[[[ 1.62434536 -0.61175641 -0.52817175]\n",
      "   [-1.07296862  0.86540763 -2.3015387 ]\n",
      "   [ 1.74481176 -0.7612069   0.3190391 ]]\n",
      "\n",
      "  [[-0.24937038  1.46210794 -2.06014071]\n",
      "   [-0.3224172  -0.38405435  1.13376944]\n",
      "   [-1.09989127 -0.17242821 -0.87785842]]]\n",
      "\n",
      "\n",
      " [[[ 0.04221375  0.58281521 -1.10061918]\n",
      "   [ 1.14472371  0.90159072  0.50249434]\n",
      "   [ 0.90085595 -0.68372786 -0.12289023]]\n",
      "\n",
      "  [[-0.93576943 -0.26788808  0.53035547]\n",
      "   [-0.69166075 -0.39675353 -0.6871727 ]\n",
      "   [-0.84520564 -0.67124613 -0.0126646 ]]]\n",
      "\n",
      "\n",
      " [[[-1.11731035  0.2344157   1.65980218]\n",
      "   [ 0.74204416 -0.19183555 -0.88762896]\n",
      "   [-0.74715829  1.6924546   0.05080775]]\n",
      "\n",
      "  [[-0.63699565  0.19091548  2.10025514]\n",
      "   [ 0.12015895  0.61720311  0.30017032]\n",
      "   [-0.35224985 -1.1425182  -0.34934272]]]\n",
      "\n",
      "\n",
      " [[[-0.20889423  0.58662319  0.83898341]\n",
      "   [ 0.93110208  0.28558733  0.88514116]\n",
      "   [-0.75439794  1.25286816  0.51292982]]\n",
      "\n",
      "  [[-0.29809284  0.48851815 -0.07557171]\n",
      "   [ 1.13162939  1.51981682  2.18557541]\n",
      "   [-1.39649634 -1.44411381 -0.50446586]]]]\n"
     ]
    }
   ],
   "source": [
    "np.random.seed(1)\n",
    "x = np.random.randn(4, 2, 3, 3)\n",
    "print (\"x[0,0] =\", x[0,1,2,1])\n",
    "print ('_----------_')\n",
    "print (x[0,...,0])  #rows * columns (the 3 dots represents all elements in the gap)\n",
    "print ('=-=-=-=-=-=-=-=-=-=-=-==-=-+++++++++++++=-=-=-=-=-=')\n",
    "print (x[...,0])  #rows * columns (the 3 dots represents all elements in the gap)\n",
    "print ('============')\n",
    "print (x)\n"
   ]
  },
  {
   "cell_type": "code",
   "execution_count": 26,
   "metadata": {},
   "outputs": [
    {
     "name": "stdout",
     "output_type": "stream",
     "text": [
      "[[0 4]\n",
      " [2 5]]\n",
      "_____+\n",
      "[[0 0 3 8]\n",
      " [5 3 1 4]\n",
      " [7 3 2 2]]\n",
      "_____+\n",
      "sum___\n",
      "11\n"
     ]
    }
   ],
   "source": [
    "a = np.random.randint(10,size=(2,2))\n",
    "b = np.random.randint(10,size=(3,4))\n",
    "print (a)\n",
    "print ('_____+')\n",
    "print (b)\n",
    "print ('_____+')\n",
    "\n",
    "# print (np.multiply(a,b))\n",
    "\n",
    "print ('sum___')\n",
    "print (np.sum(a))\n"
   ]
  },
  {
   "cell_type": "code",
   "execution_count": 15,
   "metadata": {},
   "outputs": [
    {
     "name": "stdout",
     "output_type": "stream",
     "text": [
      "[[0 2]\n",
      " [3 3]]\n",
      "2.0\n"
     ]
    }
   ],
   "source": [
    "a = np.random.randint(4,size=(2,2))\n",
    "print (a)\n",
    "print (np.mean(a))"
   ]
  }
 ],
 "metadata": {
  "kernelspec": {
   "display_name": "Python 3",
   "language": "python",
   "name": "python3"
  },
  "language_info": {
   "codemirror_mode": {
    "name": "ipython",
    "version": 3
   },
   "file_extension": ".py",
   "mimetype": "text/x-python",
   "name": "python",
   "nbconvert_exporter": "python",
   "pygments_lexer": "ipython3",
   "version": "3.6.1"
  }
 },
 "nbformat": 4,
 "nbformat_minor": 2
}
