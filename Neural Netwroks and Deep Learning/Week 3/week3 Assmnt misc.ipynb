{
 "cells": [
  {
   "cell_type": "markdown",
   "metadata": {},
   "source": [
    "miscelenius during the course of doing week 3 assigmnet planar data model"
   ]
  },
  {
   "cell_type": "code",
   "execution_count": 1,
   "metadata": {
    "collapsed": true
   },
   "outputs": [],
   "source": [
    "import numpy as np"
   ]
  },
  {
   "cell_type": "code",
   "execution_count": 58,
   "metadata": {},
   "outputs": [
    {
     "data": {
      "text/plain": [
       "array([ 0.01037415,  0.50187459,  0.49577329])"
      ]
     },
     "execution_count": 58,
     "metadata": {},
     "output_type": "execute_result"
    }
   ],
   "source": [
    "np.random.seed(9)\n",
    "np.random.rand(3)"
   ]
  },
  {
   "cell_type": "code",
   "execution_count": 60,
   "metadata": {},
   "outputs": [
    {
     "data": {
      "text/plain": [
       "array([ 0.41850818,  0.24810117,  0.08405965])"
      ]
     },
     "execution_count": 60,
     "metadata": {},
     "output_type": "execute_result"
    }
   ],
   "source": [
    "np.random.rand(3)"
   ]
  },
  {
   "cell_type": "code",
   "execution_count": 83,
   "metadata": {},
   "outputs": [
    {
     "name": "stdout",
     "output_type": "stream",
     "text": [
      "[ 0.4359949   0.02592623  0.54966248  0.43532239  0.4203678   0.33033482\n",
      "  0.20464863  0.61927097  0.29965467  0.26682728]\n",
      "1.19600339224\n"
     ]
    }
   ],
   "source": [
    "np.random.seed(2)\n",
    "b = np.random.rand(10)\n",
    "print (b)\n",
    "print (b.sum()/3)"
   ]
  },
  {
   "cell_type": "code",
   "execution_count": 84,
   "metadata": {},
   "outputs": [
    {
     "name": "stdout",
     "output_type": "stream",
     "text": [
      "[-0.41675785 -0.05626683 -2.1361961   1.64027081 -1.79343559 -0.84174737\n",
      "  0.50288142 -1.24528809 -1.05795222 -0.90900761]\n",
      "-2.10449980533\n"
     ]
    }
   ],
   "source": [
    "np.random.seed(2)\n",
    "a = np.random.randn(10)\n",
    "print (a)\n",
    "\n",
    "print (a.sum()/3)"
   ]
  },
  {
   "cell_type": "code",
   "execution_count": 135,
   "metadata": {},
   "outputs": [
    {
     "name": "stdout",
     "output_type": "stream",
     "text": [
      "[ 0.79858565  0.54334523  0.22083792  0.91845865  0.59208458  0.34623791\n",
      "  0.26377853  0.91391548  0.41973546  0.54019152]\n",
      "[1, 1, 0, 1, 1, 0, 0, 1, 0, 1]\n",
      "[ 1.  1.  0.  1.  1.  0.  0.  1.  0.  1.]\n"
     ]
    }
   ],
   "source": [
    "a = np.random.rand(10)\n",
    "b = [1 if i > 0.5 else 0 for i in a ]\n",
    "print (a)\n",
    "print(b)\n",
    "print (np.round(a))"
   ]
  },
  {
   "cell_type": "code",
   "execution_count": 137,
   "metadata": {},
   "outputs": [
    {
     "data": {
      "text/plain": [
       "array([[ 0.47140986,  0.54949682,  0.84511312],\n",
       "       [ 0.9885097 ,  0.04886809,  0.23211825],\n",
       "       [ 0.64331143,  0.16146656,  0.87014589],\n",
       "       [ 0.21740243,  0.74175504,  0.65302051],\n",
       "       [ 0.79888551,  0.03124756,  0.22957403],\n",
       "       [ 0.7046275 ,  0.08756251,  0.03058948],\n",
       "       [ 0.35713493,  0.58978199,  0.05222273],\n",
       "       [ 0.06566367,  0.04350119,  0.39515076],\n",
       "       [ 0.66842705,  0.19802711,  0.87626645],\n",
       "       [ 0.4323891 ,  0.61964146,  0.29042674]])"
      ]
     },
     "execution_count": 137,
     "metadata": {},
     "output_type": "execute_result"
    }
   ],
   "source": [
    "a = np.random.rand(10,3)\n",
    "a"
   ]
  }
 ],
 "metadata": {
  "kernelspec": {
   "display_name": "Python 3",
   "language": "python",
   "name": "python3"
  },
  "language_info": {
   "codemirror_mode": {
    "name": "ipython",
    "version": 3
   },
   "file_extension": ".py",
   "mimetype": "text/x-python",
   "name": "python",
   "nbconvert_exporter": "python",
   "pygments_lexer": "ipython3",
   "version": "3.6.1"
  }
 },
 "nbformat": 4,
 "nbformat_minor": 2
}
